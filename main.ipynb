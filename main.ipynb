{
 "cells": [
  {
   "cell_type": "markdown",
   "id": "2775a749",
   "metadata": {},
   "source": [
    "# Mines Probabilities Calculator"
   ]
  },
  {
   "cell_type": "code",
   "execution_count": 1,
   "id": "1b313005",
   "metadata": {},
   "outputs": [],
   "source": [
    "from math import sqrt, comb\n",
    "import matplotlib.pyplot as plt\n",
    "import scipy.stats as stats\n",
    "from utils import load_payouts"
   ]
  },
  {
   "cell_type": "markdown",
   "id": "17af46f2",
   "metadata": {},
   "source": [
    "## Expected PnL (or returns)"
   ]
  },
  {
   "cell_type": "markdown",
   "id": "45638fb2",
   "metadata": {},
   "source": [
    "In this game we can choose the amount of mines to be placed on the board and the amount of diamonds to find before cashing out. We want to find the streategy that maximizes the expected returns or PnL.\n",
    "\n",
    "The payouts table is known and we denote the payout of winning by choosing $d$ diamonds in a board with $m$ mines by $P_{d,m}$\n",
    "\n",
    "Given a strategy with $d$ diamonds and $m$ mines, the probability of winning a game is given by\n",
    "\n",
    "$$p_{d,m}=\\frac{{25 - m\\choose d}}{{25\\choose d}}$$\n",
    "\n",
    "That is, the ways I can choose $d$ diamonds from the empty cells over the total ways to choose diamonds. We define the random variable $\\operatorname{PnL_{d,m}}$ as follows:\n",
    "\n",
    "$$\\mathbb{P}(\\operatorname{PnL_{d,m}}=-1)=1-p_{d,m},\\quad \\mathbb{P}(\\operatorname{PnL_{d,m}}=P_{d,m}-1)=p_{d,m}$$\n",
    "\n",
    "The expected PnL of this strategy is then given by\n",
    "\n",
    "$$\\mathbb{E}[\\operatorname{PnL}_{d,m}]=p_{d,m}\\cdot (P_{d,m} - 1) - 1\\cdot (1-p_{d,m})=p_{d,m}\\cdot P_{d,m} - 1$$\n",
    "\n",
    "We want to look for the game strategy that maximizes this value.\n",
    "\n",
    "**Note:** We can also define $\\operatorname{PnL}_{d,m}=P_{d,m}\\cdot X-1$ where $X\\sim\\text{Ber}(p_{d,m})$"
   ]
  },
  {
   "cell_type": "code",
   "execution_count": 2,
   "id": "0cd92e92",
   "metadata": {},
   "outputs": [],
   "source": [
    "def win_probability(n_mines, n_diamonds):\n",
    "    \"\"\"\n",
    "    Calculate the probability of finding n_diamonds in a field with n_mines and 25 total cells\n",
    "    \"\"\"\n",
    "    # Calculate the number of ways to choose n_diamonds from n_empty_cells\n",
    "    ways_to_choose_diamonds = comb(25 - n_mines, n_diamonds)\n",
    "\n",
    "    # Calculate the total number of ways to choose n_diamonds from total_cells\n",
    "    total_ways = comb(25, n_diamonds)\n",
    "\n",
    "    # Calculate and return the probability\n",
    "    return ways_to_choose_diamonds / total_ways"
   ]
  },
  {
   "cell_type": "code",
   "execution_count": 3,
   "id": "fc773210",
   "metadata": {},
   "outputs": [],
   "source": [
    "def expected_pnl(payout, n_mines, n_diamonds):\n",
    "    \"\"\"\n",
    "    Calculate expected PnL of finding n_diamonds in a field with n_mines and 25 total cells\n",
    "    \"\"\"\n",
    "    p = win_probability(n_mines, n_diamonds)\n",
    "    return payout * p - 1, p"
   ]
  },
  {
   "cell_type": "code",
   "execution_count": 4,
   "id": "e8c5abd0",
   "metadata": {},
   "outputs": [],
   "source": [
    "def find_best_pnl(payouts):\n",
    "    \"\"\"\n",
    "    Finds the strategy with the best PnL\n",
    "    \"\"\"\n",
    "    best_pnl = float('-inf')\n",
    "    best_n_mines = None\n",
    "    best_n_diamonds = None\n",
    "    best_p = None\n",
    "\n",
    "    for diamonds, v in payouts.items():  # n_diamonds\n",
    "        for mines, payout in v.items():  # n_mines\n",
    "            pnl, p = expected_pnl(payout, int(mines), int(diamonds))\n",
    "            if pnl > best_pnl:\n",
    "                best_pnl = pnl\n",
    "                best_n_mines = int(mines)\n",
    "                best_n_diamonds = int(diamonds)\n",
    "                best_p = p\n",
    "\n",
    "    return best_n_mines, best_n_diamonds, best_pnl, best_p"
   ]
  },
  {
   "cell_type": "code",
   "execution_count": 27,
   "id": "6c603117",
   "metadata": {},
   "outputs": [
    {
     "name": "stdout",
     "output_type": "stream",
     "text": [
      "Best strategy: 11 mines and 5 diamonds\n",
      "Expected PnL: 0.0087\n",
      "Probability of winning each game: 3.7681%\n",
      "Win payout: 26.77\n"
     ]
    }
   ],
   "source": [
    "payouts = load_payouts()\n",
    "\n",
    "m, d, pnl, p = find_best_pnl(payouts)\n",
    "payout = payouts[str(d)][str(m)]\n",
    "\n",
    "print(f\"Best strategy: {m} mines and {d} diamonds\")\n",
    "print(f\"Expected PnL: {pnl:.4f}\")\n",
    "print(f\"Probability of winning each game: {p * 100:.4f}%\")\n",
    "print(f\"Win payout: {payout}\")"
   ]
  },
  {
   "cell_type": "markdown",
   "id": "e7346590",
   "metadata": {},
   "source": [
    "Is this the only strategy with positive PnL?"
   ]
  },
  {
   "cell_type": "code",
   "execution_count": 28,
   "id": "2c5ce053",
   "metadata": {},
   "outputs": [],
   "source": [
    "def all_pnl(payouts):\n",
    "    pnl_dict = {}\n",
    "    for diamonds, v in payouts.items():\n",
    "        for mines, payout in v.items():\n",
    "            pnl_dict[(diamonds, mines)], _ = expected_pnl(payout, int(mines), int(diamonds))\n",
    "\n",
    "    return pnl_dict"
   ]
  },
  {
   "cell_type": "code",
   "execution_count": 29,
   "id": "3d4bfee1",
   "metadata": {},
   "outputs": [
    {
     "name": "stdout",
     "output_type": "stream",
     "text": [
      "[(('5', '11'), 0.008724637681159386)]\n"
     ]
    }
   ],
   "source": [
    "pnls = all_pnl(payouts)\n",
    "\n",
    "pnls = sorted(pnls.items(), key=lambda x: x[1], reverse=True)\n",
    "print([pnls[i] for i in range(len(pnls)) if pnls[i][1]>0])"
   ]
  },
  {
   "cell_type": "code",
   "execution_count": 30,
   "id": "94ca42eb",
   "metadata": {},
   "outputs": [
    {
     "name": "stdout",
     "output_type": "stream",
     "text": [
      "[(('5', '11'), 0.008724637681159386), (('1', '2'), -0.00639999999999985), (('2', '1'), -0.00639999999999985), (('2', '3'), -0.006699999999999928), (('3', '2'), -0.006699999999999928), (('1', '8'), -0.007199999999999984), (('8', '1'), -0.007199999999999984), (('1', '9'), -0.007999999999999896), (('9', '1'), -0.007999999999999896), (('1', '5'), -0.008000000000000007), (('5', '1'), -0.008000000000000007), (('2', '6'), -0.008200000000000096), (('6', '2'), -0.008200000000000096), (('3', '5'), -0.008695652173912993), (('5', '3'), -0.008695652173912993), (('1', '11'), -0.008799999999999919), (('1', '18'), -0.008799999999999919), (('11', '1'), -0.008799999999999919), (('18', '1'), -0.008799999999999919), (('1', '4'), -0.008800000000000141), (('4', '1'), -0.008800000000000141), (('3', '9'), -0.009043478260869486), (('9', '3'), -0.009043478260869486), (('3', '3'), -0.009043478260869597), (('9', '11'), -0.009277157087091092), (('3', '11'), -0.009286956521739165), (('11', '3'), -0.009286956521739165), (('2', '12'), -0.009399999999999964), (('12', '2'), -0.009399999999999964), (('2', '10'), -0.009500000000000064), (('10', '2'), -0.009500000000000064), (('3', '8'), -0.009565217391304226), (('8', '3'), -0.009565217391304226), (('1', '21'), -0.009599999999999942), (('21', '1'), -0.009599999999999942), (('23', '1'), -0.009599999999999942), (('2', '17'), -0.009733333333333372), (('17', '2'), -0.009733333333333372), (('4', '12'), -0.009739130434782584), (('5', '10'), -0.009739130434782584), (('10', '5'), -0.009739130434782584), (('12', '4'), -0.009739130434782584), (('6', '8'), -0.009780237154150218), (('8', '6'), -0.009780237154150218), (('5', '7'), -0.009833992094861688), (('7', '5'), -0.009833992094861688), (('3', '16'), -0.009895652173912972), (('16', '3'), -0.009895652173912972), (('8', '8'), -0.009911009407577054), (('4', '15'), -0.00992885375494057), (('15', '4'), -0.00992885375494057), (('3', '6'), -0.009934782608695625), (('6', '3'), -0.009934782608695625), (('3', '18'), -0.009956521739130308), (('18', '3'), -0.009956521739130308), (('9', '9'), -0.009977116704805389), (('7', '9'), -0.0099771167048055), (('8', '9'), -0.0099771167048055), (('8', '10'), -0.0099771167048055), (('9', '7'), -0.0099771167048055), (('9', '8'), -0.0099771167048055), (('10', '8'), -0.0099771167048055), (('5', '12'), -0.009981366459627439), (('12', '5'), -0.009981366459627439), (('4', '17'), -0.009984189723320158), (('17', '4'), -0.009984189723320158), (('7', '12'), -0.009989016018306707), (('12', '7'), -0.009989016018306707), (('1', '20'), -0.009999999999999898), (('2', '19'), -0.009999999999999898), (('2', '23'), -0.009999999999999898), (('3', '14'), -0.009999999999999898), (('4', '13'), -0.009999999999999898), (('4', '19'), -0.009999999999999898), (('5', '16'), -0.009999999999999898), (('6', '13'), -0.009999999999999898), (('6', '14'), -0.009999999999999898), (('6', '15'), -0.009999999999999898), (('6', '19'), -0.009999999999999898), (('7', '18'), -0.009999999999999898), (('12', '13'), -0.009999999999999898), (('13', '4'), -0.009999999999999898), (('13', '6'), -0.009999999999999898), (('13', '12'), -0.009999999999999898), (('14', '3'), -0.009999999999999898), (('14', '6'), -0.009999999999999898), (('15', '6'), -0.009999999999999898), (('16', '5'), -0.009999999999999898), (('18', '7'), -0.009999999999999898), (('19', '2'), -0.009999999999999898), (('19', '4'), -0.009999999999999898), (('19', '6'), -0.009999999999999898), (('20', '1'), -0.009999999999999898), (('23', '2'), -0.009999999999999898), (('1', '14'), -0.010000000000000009), (('1', '16'), -0.010000000000000009), (('1', '22'), -0.010000000000000009), (('2', '13'), -0.010000000000000009), (('2', '14'), -0.010000000000000009), (('2', '16'), -0.010000000000000009), (('2', '20'), -0.010000000000000009), (('2', '21'), -0.010000000000000009), (('2', '22'), -0.010000000000000009), (('3', '13'), -0.010000000000000009), (('3', '19'), -0.010000000000000009), (('3', '20'), -0.010000000000000009), (('3', '21'), -0.010000000000000009), (('3', '22'), -0.010000000000000009), (('4', '14'), -0.010000000000000009), (('5', '14'), -0.010000000000000009), (('6', '18'), -0.010000000000000009), (('11', '14'), -0.010000000000000009), (('13', '2'), -0.010000000000000009), (('13', '3'), -0.010000000000000009), (('14', '1'), -0.010000000000000009), (('14', '2'), -0.010000000000000009), (('14', '4'), -0.010000000000000009), (('14', '5'), -0.010000000000000009), (('14', '11'), -0.010000000000000009), (('16', '1'), -0.010000000000000009), (('16', '2'), -0.010000000000000009), (('18', '6'), -0.010000000000000009), (('19', '3'), -0.010000000000000009), (('20', '2'), -0.010000000000000009), (('20', '3'), -0.010000000000000009), (('21', '2'), -0.010000000000000009), (('21', '3'), -0.010000000000000009), (('22', '1'), -0.010000000000000009), (('22', '2'), -0.010000000000000009), (('22', '3'), -0.010000000000000009), (('24', '1'), -0.010000000000000009), (('1', '10'), -0.01000000000000012), (('2', '15'), -0.01000000000000012), (('10', '1'), -0.01000000000000012), (('15', '2'), -0.01000000000000012), (('10', '15'), -0.01000012237056258), (('15', '10'), -0.01000012237056258), (('9', '16'), -0.010000122370562692), (('16', '9'), -0.010000122370562692), (('8', '17'), -0.010000231144395966), (('17', '8'), -0.010000231144395966), (('7', '8'), -0.010000915331807803), (('8', '7'), -0.010000915331807803), (('8', '12'), -0.010000915331807803), (('12', '8'), -0.010000915331807803), (('10', '14'), -0.010001346076187856), (('11', '13'), -0.010001346076187856), (('13', '11'), -0.010001346076187856), (('14', '10'), -0.010001346076187856), (('8', '16'), -0.010002080299563065), (('16', '8'), -0.010002080299563065), (('12', '12'), -0.01000211526258099), (('9', '15'), -0.010002569781813353), (('15', '9'), -0.010002569781813353), (('5', '17'), -0.010002635046113428), (('17', '5'), -0.010002635046113428), (('10', '13'), -0.010008076457127535), (('13', '10'), -0.010008076457127535), (('7', '13'), -0.010008237986270041), (('13', '7'), -0.010008237986270041), (('8', '11'), -0.010008848207475274), (('11', '8'), -0.010008848207475274), (('7', '17'), -0.010010401497815624), (('17', '7'), -0.010010401497815624), (('4', '18'), -0.010011857707509897), (('18', '4'), -0.010011857707509897), (('9', '10'), -0.010012114685691076), (('10', '9'), -0.010012114685691076), (('11', '11'), -0.010012114685691187), (('11', '12'), -0.010012114685691187), (('12', '11'), -0.010012114685691187), (('5', '8'), -0.010013175230566551), (('5', '20'), -0.010013175230566551), (('8', '5'), -0.010013175230566551), (('20', '5'), -0.010013175230566551), (('9', '14'), -0.010014806838066992), (('14', '9'), -0.010014806838066992), (('3', '17'), -0.010017391304347978), (('17', '3'), -0.010017391304347978), (('7', '16'), -0.010018722696068294), (('16', '7'), -0.010018722696068294), (('6', '10'), -0.010021739130434804), (('10', '6'), -0.010021739130434804), (('5', '15'), -0.010023715415019674), (('15', '5'), -0.010023715415019674), (('7', '11'), -0.010024713958810105), (('11', '7'), -0.010024713958810105), (('8', '15'), -0.010027043894320742), (('15', '8'), -0.010027043894320742), (('4', '16'), -0.010028458498023585), (('16', '4'), -0.010028458498023585), (('6', '12'), -0.010029813664596321), (('12', '6'), -0.010029813664596321), (('5', '13'), -0.010037267080745371), (('13', '5'), -0.010037267080745371), (('4', '21'), -0.010039525691699636), (('21', '4'), -0.010039525691699636), (('9', '13'), -0.010041728361825264), (('13', '9'), -0.010041728361825264), (('5', '19'), -0.010050818746470958), (('19', '5'), -0.010050818746470958), (('7', '10'), -0.01005148741418771), (('10', '7'), -0.01005148741418771), (('8', '13'), -0.010068649885583425), (('8', '14'), -0.010068649885583425), (('13', '8'), -0.010068649885583425), (('14', '8'), -0.010068649885583425), (('7', '14'), -0.010068649885583536), (('14', '7'), -0.010068649885583536), (('6', '11'), -0.010078260869565092), (('11', '6'), -0.010078260869565092), (('4', '11'), -0.010078260869565203), (('11', '4'), -0.010078260869565203), (('10', '12'), -0.010082110647462672), (('12', '10'), -0.010082110647462672), (('11', '5'), -0.01011594202898547), (('6', '17'), -0.010118577075098778), (('17', '6'), -0.010118577075098778), (('6', '16'), -0.010118577075098889), (('16', '6'), -0.010118577075098889), (('4', '9'), -0.01015019762845848), (('9', '4'), -0.01015019762845848), (('5', '9'), -0.01015019762845859), (('9', '5'), -0.01015019762845859), (('3', '7'), -0.010156521739130508), (('7', '3'), -0.010156521739130508), (('6', '9'), -0.010191304347826002), (('9', '6'), -0.010191304347826002), (('3', '12'), -0.010191304347826113), (('12', '3'), -0.010191304347826113), (('7', '15'), -0.010193467859371697), (('15', '7'), -0.010193467859371697), (('2', '18'), -0.010199999999999876), (('18', '2'), -0.010199999999999876), (('9', '12'), -0.010257100551891218), (('10', '11'), -0.010257100551891218), (('11', '9'), -0.010257100551891218), (('11', '10'), -0.010257100551891218), (('12', '9'), -0.010257100551891218), (('7', '7'), -0.010258373205741633), (('3', '15'), -0.010260869565217545), (('15', '3'), -0.010260869565217545), (('4', '20'), -0.010276679841897285), (('5', '18'), -0.010276679841897285), (('18', '5'), -0.010276679841897285), (('20', '4'), -0.010276679841897285), (('4', '6'), -0.010317786561264808), (('6', '4'), -0.010317786561264808), (('6', '6'), -0.010317786561264808), (('4', '8'), -0.010371541501976389), (('8', '4'), -0.010371541501976389), (('1', '23'), -0.010400000000000076), (('6', '7'), -0.01047905138339933), (('7', '6'), -0.01047905138339933), (('4', '10'), -0.01050988142292486), (('10', '4'), -0.01050988142292486), (('10', '10'), -0.010563332884641286), (('2', '7'), -0.010600000000000054), (('7', '2'), -0.010600000000000054), (('4', '7'), -0.010640316205533629), (('7', '4'), -0.010640316205533629), (('5', '5'), -0.010755505364201001), (('5', '6'), -0.010755505364201112), (('6', '5'), -0.010755505364201112), (('3', '10'), -0.010869565217391353), (('10', '3'), -0.010869565217391353), (('2', '11'), -0.011133333333333328), (('11', '2'), -0.011133333333333328), (('3', '4'), -0.011173913043478256), (('4', '3'), -0.011173913043478256), (('4', '4'), -0.011173913043478367), (('1', '13'), -0.011199999999999988), (('1', '17'), -0.011199999999999988), (('1', '19'), -0.011199999999999988), (('13', '1'), -0.011199999999999988), (('17', '1'), -0.011199999999999988), (('19', '1'), -0.011199999999999988), (('2', '8'), -0.011733333333333262), (('8', '2'), -0.011733333333333262), (('4', '5'), -0.011849802371541429), (('5', '4'), -0.011849802371541429), (('1', '6'), -0.0119999999999999), (('1', '15'), -0.0119999999999999), (('2', '9'), -0.0119999999999999), (('6', '1'), -0.0119999999999999), (('9', '2'), -0.0119999999999999), (('15', '1'), -0.0119999999999999), (('1', '12'), -0.01200000000000001), (('1', '24'), -0.01200000000000001), (('2', '5'), -0.01200000000000001), (('5', '2'), -0.01200000000000001), (('12', '1'), -0.01200000000000001), (('2', '4'), -0.013000000000000123), (('4', '2'), -0.013000000000000123), (('2', '2'), -0.013299999999999979), (('1', '7'), -0.013599999999999945), (('7', '1'), -0.013599999999999945), (('1', '3'), -0.014399999999999857), (('3', '1'), -0.014399999999999857), (('1', '1'), -0.030399999999999983)]\n"
     ]
    }
   ],
   "source": [
    "print(pnls)"
   ]
  },
  {
   "cell_type": "markdown",
   "id": "599be4fe",
   "metadata": {},
   "source": [
    "## Should we participate in this game?\n",
    "\n"
   ]
  },
  {
   "cell_type": "markdown",
   "id": "9d98f813",
   "metadata": {},
   "source": [
    "Using the strategy found before (11 mines and 5 diamonds), which has positive expected returns, we define $X_n\\sim \\text{Bin}(n, p_{5, 11})$ as the random variable representing the number of wins obtained by playing $n$ games following this strategy.\n",
    "Thus, the PnL in this case is given by\n",
    "\n",
    "$$\\operatorname{PnL}^n_{5,11}=P_{5,11}\\cdot X_n - n$$\n",
    "and the expected PnL is given by\n",
    "$$\\mathbb{E}[\\operatorname{PnL}^n_{5,11}]=P_{5,11}\\cdot \\mathbb{E}[X_n] - n=n\\cdot p_{5,11}\\cdot P_{5,11}-n=n\\cdot \\mathbb{E}[\\operatorname{PnL}_{5,11}]$$\n",
    "\n",
    "Clearly, the game has positive expected PnL, no matter how many games we decide to play. What interests us now is determining the probability of winning (or losing) money given that we play $n$ games, that is,\n",
    "\n",
    "$$\\mathbb{P}(\\operatorname{PnL}^n_{5,11}<0)$$\n",
    "\n",
    "**Note:** Notice that $\\operatorname{PnL}^n_{d,m}=\\sum_{i=1}^n (PnL_{d,m})_{i}$"
   ]
  },
  {
   "cell_type": "code",
   "execution_count": 8,
   "id": "b776980f",
   "metadata": {},
   "outputs": [],
   "source": [
    "def prob_losing(n, p, payout):\n",
    "    \"\"\"\n",
    "    Calculates the probability of losing money by playing n games with probability of winning p and payout\n",
    "    \"\"\"\n",
    "    return sum([stats.binom.pmf(n=n, k=k, p=p) for k in range(n + 1) if payout * k - n < 0])"
   ]
  },
  {
   "cell_type": "markdown",
   "id": "bea5faad",
   "metadata": {},
   "source": [
    "Plot the probability of losing in terms of $n$."
   ]
  },
  {
   "cell_type": "code",
   "execution_count": 9,
   "id": "1bc55652",
   "metadata": {},
   "outputs": [
    {
     "data": {
      "image/png": "[encoded data removed]",
      "text/plain": [
       "<Figure size 640x480 with 1 Axes>"
      ]
     },
     "metadata": {},
     "output_type": "display_data"
    }
   ],
   "source": [
    "y = [prob_losing(n, p, payout) for n in range(1, 10000)]\n",
    "x = [n for n in range(1, 10000)]\n",
    "\n",
    "plt.plot(x, y, label=\"Probability of losing money\")\n",
    "plt.xlabel(\"Number of games\")\n",
    "plt.legend()\n",
    "\n",
    "plt.show()"
   ]
  },
  {
   "cell_type": "code",
   "execution_count": 10,
   "id": "88e4bbd6",
   "metadata": {},
   "outputs": [
    {
     "data": {
      "text/plain": [
       "(25, np.float64(0.3683780158754935))"
      ]
     },
     "execution_count": 10,
     "metadata": {},
     "output_type": "execute_result"
    }
   ],
   "source": [
    "y.index(min(y)), min(y)"
   ]
  },
  {
   "cell_type": "markdown",
   "id": "b280db83",
   "metadata": {},
   "source": [
    "## Central Limit Theorem"
   ]
  },
  {
   "cell_type": "markdown",
   "id": "6d2bb96f",
   "metadata": {},
   "source": [
    "We want to compute the probability of losing for large values on $n$ and when $n\\to\\inf$\n",
    "\n",
    "We have,\n",
    "\n",
    "$$\\begin{align*}\n",
    "\\operatorname{Var}(\\operatorname{PnL}_{d,m})&=\\operatorname{Var}(P_{d,m}\\cdot X-1)\\\\\n",
    "&=P_{d,m}^2\\operatorname{Var}(X)\\\\\n",
    "&=P_{d,m}^2\\cdot p_{d,m}\\cdot(1-p_{d,m})\n",
    "\\end{align*}$$\n",
    "\n",
    "By the central limit theorem, \n",
    "\n",
    "$\\operatorname{PnL}^n_{d,m}=\\sum_{i=1}^n (PnL_{d,m})_{i}\\overset{\\cdot}{\\sim}\\mathcal{N}(n\\cdot (p_{d,m}\\cdot P_{d,m} - 1), n\\cdot p_{d,m}\\cdot(1-p_{d,m})\\cdot P_{d,m}^2)$\n",
    "\n",
    "Then,\n",
    "\n",
    "$$\\begin{align*}\n",
    "\\mathbb{P}(\\operatorname{PnL}^n_{d,m}<0)&\\approx \\Phi\\left(\\frac{n\\cdot (1-p_{d,m}\\cdot P_{d,m})}{P_{d,m}\\sqrt{n\\cdot p_{d,m}\\cdot(1-p_{d,m})}}\\right)\\\\\n",
    "&=\\Phi\\left(\\frac{\\sqrt{n}(1-p_{d,m}\\cdot P_{d,m})}{P_{d,m}\\sqrt{p_{d,m}\\cdot(1-p_{d,m})}}\\right)\n",
    "\\end{align*}$$\n",
    "\n",
    "Where $\\Phi$ is CDF of a standard normal distribution. Because the strategy has positive expected value, $1-p_{d,m}\\cdot P_{d,m}<0$ and\n",
    "$$\\begin{align*}\n",
    "\\lim_{n\\to\\infty} \\mathbb{P}(\\operatorname{PnL}^n_{d,m})&=\\lim_{n\\to\\infty} \\Phi\\left(\\frac{\\sqrt{n}(1-p_{d,m}\\cdot P_{d,m})}{P_{d,m}\\sqrt{p_{d,m}\\cdot(1-p_{d,m})}}\\right)\\\\\n",
    "&=\\Phi\\left(\\lim_{n\\to\\infty} \\frac{\\sqrt{n}(1-p_{d,m}\\cdot P_{d,m})}{P_{d,m}\\sqrt{p_{d,m}\\cdot(1-p_{d,m})}}\\right)\\\\\n",
    "&=\\Phi(-\\infty)\\\\\n",
    "&=0\n",
    "\\end{align*}$$\n",
    "\n",
    "as expected."
   ]
  },
  {
   "cell_type": "code",
   "execution_count": 11,
   "id": "df78e460",
   "metadata": {},
   "outputs": [],
   "source": [
    "def clt_prob_losing(n, p, payout):\n",
    "    return stats.norm.cdf(0, loc=n * (p * payout - 1), scale=sqrt(n * p * (1-p)) * payout)"
   ]
  },
  {
   "cell_type": "code",
   "execution_count": 12,
   "id": "953356f5",
   "metadata": {},
   "outputs": [
    {
     "data": {
      "image/png": "[encoded data removed]",
      "text/plain": [
       "<Figure size 640x480 with 1 Axes>"
      ]
     },
     "metadata": {},
     "output_type": "display_data"
    }
   ],
   "source": [
    "y_clt = [clt_prob_losing(i, p, payout) for i in range(10000, 1000000)]\n",
    "x_clt = range(10000, 1000000)\n",
    "\n",
    "plt.plot(x_clt, y_clt, label=\"CLT Probability of losing money\")\n",
    "plt.xlabel(\"Number of games\")\n",
    "\n",
    "plt.legend()\n",
    "\n",
    "plt.show()"
   ]
  },
  {
   "cell_type": "markdown",
   "id": "e1f5d168",
   "metadata": {},
   "source": [
    "## How many games should we play?"
   ]
  },
  {
   "cell_type": "markdown",
   "id": "08ec6854",
   "metadata": {},
   "source": [
    "Given a probability $q$, we are interested in determining the amount of games $n$ that we should play so that \n",
    "$$\\begin{align*}\n",
    "\\mathbb{P}(\\operatorname{PnL}_{d,m}^n <0) \\leq q&\\iff \\Phi\\left(\\frac{\\sqrt{n}(1-p_{d,m}\\cdot P_{d,m})}{P_{d,m}\\sqrt{p_{d,m}\\cdot(1-p_{d,m})}}\\right)\\leq q\\\\\n",
    "&\\iff \\frac{\\sqrt{n}(1-p_{d,m}\\cdot P_{d,m})}{P_{d,m}\\sqrt{p_{d,m}\\cdot(1-p_{d,m})}}\\leq \\Phi^{-1}(q)\\\\\n",
    "&\\iff \\sqrt{n}\\geq \\Phi^{-1}(q)\\frac{P_{d,m}\\sqrt{p_{d,m}\\cdot(1-p_{d,m})}}{1-p_{d,m}\\cdot P_{d,m}}\\\\\n",
    "&\\iff n\\geq \\frac{(\\Phi^{-1}(q)\\cdot P_{d,m})^2(p_{d,m}\\cdot (1-p_{d,m}))}{(1-p_{d,m}\\cdot P_{d,m})^2}\n",
    "\\end{align*}$$"
   ]
  },
  {
   "cell_type": "code",
   "execution_count": 13,
   "id": "ecd2060f",
   "metadata": {},
   "outputs": [],
   "source": [
    "def clt_games_to_play(q, p, payout):\n",
    "    return int(((stats.norm.ppf(q) * payout) / (1 - p * payout))**2 * (p * (1- p))) + 1"
   ]
  },
  {
   "cell_type": "code",
   "execution_count": 14,
   "id": "d7173105",
   "metadata": {},
   "outputs": [
    {
     "name": "stdout",
     "output_type": "stream",
     "text": [
      "Games needed to play to lose with probability <30.0%: 93880\n",
      "Games needed to play to lose with probability <20.0%: 241813\n",
      "Games needed to play to lose with probability <10.0%: 560683\n",
      "Games needed to play to lose with probability <5.0%: 923634\n",
      "Games needed to play to lose with probability <1.0%: 1847543\n",
      "Games needed to play to lose with probability <0.1%: 3260074\n"
     ]
    }
   ],
   "source": [
    "probs = [0.3, 0.2, 0.1, 0.05, 0.01, 0.001]\n",
    "\n",
    "games_to_play = [clt_games_to_play(q, p, payout) for q in probs]\n",
    "\n",
    "for prob, games in zip(probs, games_to_play):\n",
    "    print(f\"Games needed to play to lose with probability <{prob*100:.1f}%: {games}\")"
   ]
  },
  {
   "cell_type": "markdown",
   "id": "fb9a2b88",
   "metadata": {},
   "source": [
    "## Conclusions\n",
    "\n",
    "It seems odd that casinos would allow a game where there is a strategy which loses them money on the long run. I am skeptical of my results and think there must be an error somewhere (most likely in the payout table which I obtained from [here](https://www.reddit.com/r/Stake/comments/ssf33j/stake_mines_payout_list/) and [here](https://stakecommunity.com/topic/58218-payment-table-for-mines/)).\n",
    "\n",
    "According to the [stake website](https://stake.com/casino/games/mines), the house as a 1% edge. That means, the correct payouts are given by:\n",
    "\n",
    "$$\\begin{align*}\n",
    "\\mathbb{E}[\\operatorname{PnL}_{d,m}]&=-0.01\\\\\n",
    "\\iff p_{d,m}\\cdot P_{d,m}-1&=-0.01\\\\\n",
    "\\iff P_{d,m}&=\\frac{0.99}{p_{d,m}}\n",
    "\\end{align*}$$\n",
    "\n",
    "**Note**: Upon further search, I found this [page](https://stakecommunity.com/topic/28457-mines-multiplier-and-win-chance/) where the probability is listed correctly. **Might** create an online casino account just to check it."
   ]
  },
  {
   "cell_type": "code",
   "execution_count": 16,
   "id": "6ec8d968",
   "metadata": {},
   "outputs": [
    {
     "name": "stdout",
     "output_type": "stream",
     "text": [
      "Correct payout with 1% house edge for 11 mines and 5 diamonds: 26.27 instead of 26.77\n"
     ]
    }
   ],
   "source": [
    "print(f\"Correct payout with 1% house edge for {m} mines and {d} diamonds: {0.99/p:.2f} instead of {payout}\")"
   ]
  }
 ],
 "metadata": {
  "kernelspec": {
   "display_name": "Python 3",
   "language": "python",
   "name": "python3"
  },
  "language_info": {
   "codemirror_mode": {
    "name": "ipython",
    "version": 3
   },
   "file_extension": ".py",
   "mimetype": "text/x-python",
   "name": "python",
   "nbconvert_exporter": "python",
   "pygments_lexer": "ipython3",
   "version": "3.9.6"
  }
 },
 "nbformat": 4,
 "nbformat_minor": 5
}
